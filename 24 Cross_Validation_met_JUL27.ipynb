{
 "cells": [
  {
   "cell_type": "code",
   "execution_count": 2,
   "id": "4920f75c-c80e-4052-84bd-365a40b5f6d8",
   "metadata": {},
   "outputs": [],
   "source": [
    "# data: Salary_Data.csv"
   ]
  },
  {
   "cell_type": "code",
   "execution_count": 4,
   "id": "f68ba038-9aad-49fe-9a04-682da60b73a4",
   "metadata": {},
   "outputs": [],
   "source": [
    "import pandas as pd\n",
    "import numpy as np\n",
    "import matplotlib.pyplot as plt\n",
    "import seaborn as sns"
   ]
  },
  {
   "cell_type": "code",
   "execution_count": 8,
   "id": "28bf4ff2-5ed5-461a-afc3-a6d1b544ed97",
   "metadata": {},
   "outputs": [
    {
     "data": {
      "text/html": [
       "<div>\n",
       "<style scoped>\n",
       "    .dataframe tbody tr th:only-of-type {\n",
       "        vertical-align: middle;\n",
       "    }\n",
       "\n",
       "    .dataframe tbody tr th {\n",
       "        vertical-align: top;\n",
       "    }\n",
       "\n",
       "    .dataframe thead th {\n",
       "        text-align: right;\n",
       "    }\n",
       "</style>\n",
       "<table border=\"1\" class=\"dataframe\">\n",
       "  <thead>\n",
       "    <tr style=\"text-align: right;\">\n",
       "      <th></th>\n",
       "      <th>YearsExperience</th>\n",
       "      <th>Salary</th>\n",
       "    </tr>\n",
       "  </thead>\n",
       "  <tbody>\n",
       "    <tr>\n",
       "      <th>0</th>\n",
       "      <td>1.1</td>\n",
       "      <td>39343.0</td>\n",
       "    </tr>\n",
       "    <tr>\n",
       "      <th>1</th>\n",
       "      <td>1.3</td>\n",
       "      <td>46205.0</td>\n",
       "    </tr>\n",
       "    <tr>\n",
       "      <th>2</th>\n",
       "      <td>1.5</td>\n",
       "      <td>37731.0</td>\n",
       "    </tr>\n",
       "    <tr>\n",
       "      <th>3</th>\n",
       "      <td>2.0</td>\n",
       "      <td>43525.0</td>\n",
       "    </tr>\n",
       "    <tr>\n",
       "      <th>4</th>\n",
       "      <td>2.2</td>\n",
       "      <td>39891.0</td>\n",
       "    </tr>\n",
       "  </tbody>\n",
       "</table>\n",
       "</div>"
      ],
      "text/plain": [
       "   YearsExperience   Salary\n",
       "0              1.1  39343.0\n",
       "1              1.3  46205.0\n",
       "2              1.5  37731.0\n",
       "3              2.0  43525.0\n",
       "4              2.2  39891.0"
      ]
     },
     "execution_count": 8,
     "metadata": {},
     "output_type": "execute_result"
    }
   ],
   "source": [
    "df = pd.read_csv('Salary_Data.csv')\n",
    "df.head()"
   ]
  },
  {
   "cell_type": "code",
   "execution_count": 109,
   "id": "97f88ad9-920c-45bb-a8df-0f54d0aebb77",
   "metadata": {},
   "outputs": [
    {
     "data": {
      "text/plain": [
       "(30, 2)"
      ]
     },
     "execution_count": 109,
     "metadata": {},
     "output_type": "execute_result"
    }
   ],
   "source": [
    "df.shape"
   ]
  },
  {
   "cell_type": "code",
   "execution_count": 111,
   "id": "e9f8cb09-e7ea-4522-a805-1fa32dd7f499",
   "metadata": {},
   "outputs": [],
   "source": [
    "x = df['YearsExperience'].values\n",
    "x = x.reshape(30, 1)\n",
    "y = df['Salary']"
   ]
  },
  {
   "cell_type": "code",
   "execution_count": 113,
   "id": "4281a032-1257-403a-89db-7e6fb4a383e3",
   "metadata": {},
   "outputs": [],
   "source": [
    "# Holdout\n",
    "from sklearn.model_selection import train_test_split\n",
    "x_train, x_test, y_train, y_test = train_test_split(x, y, \n",
    "                                                   random_state= 0)"
   ]
  },
  {
   "cell_type": "code",
   "execution_count": 115,
   "id": "1daa0564-cea3-4a03-93e1-21ab3b21d060",
   "metadata": {},
   "outputs": [
    {
     "name": "stdout",
     "output_type": "stream",
     "text": [
      "training acc: 0.9395413526983522\n",
      "testing acc: 0.9779208335417602\n"
     ]
    }
   ],
   "source": [
    "from sklearn.linear_model import LinearRegression\n",
    "lr = LinearRegression()\n",
    "lr.fit(x_train, y_train)\n",
    "print('training acc:', lr.score(x_train, y_train))\n",
    "print('testing acc:', lr.score(x_test, y_test))"
   ]
  },
  {
   "cell_type": "markdown",
   "id": "67ba1d1d-7f92-4a2a-84b6-d1bba11acb24",
   "metadata": {},
   "source": [
    "#### KFold"
   ]
  },
  {
   "cell_type": "code",
   "execution_count": 118,
   "id": "5646defd-c1f8-4188-8dc8-ac5337797249",
   "metadata": {},
   "outputs": [],
   "source": [
    "from sklearn.model_selection import KFold"
   ]
  },
  {
   "cell_type": "code",
   "execution_count": 120,
   "id": "865244d5-f164-4bc9-9acd-c92a25af27c5",
   "metadata": {},
   "outputs": [],
   "source": [
    "kf = KFold(n_splits= 5, random_state= 0, shuffle= True)"
   ]
  },
  {
   "cell_type": "code",
   "execution_count": 122,
   "id": "7599fd70-44e6-4e39-bf10-41a41811b8a6",
   "metadata": {},
   "outputs": [
    {
     "data": {
      "text/plain": [
       "array([ 0,  3, 12, 15, 21, 25])"
      ]
     },
     "execution_count": 122,
     "metadata": {},
     "output_type": "execute_result"
    }
   ],
   "source": [
    "test"
   ]
  },
  {
   "cell_type": "code",
   "execution_count": 124,
   "id": "77f82f4c-1c06-49fa-89a6-c626c25ce1de",
   "metadata": {},
   "outputs": [
    {
     "name": "stdout",
     "output_type": "stream",
     "text": [
      "[ 0  1  3  4  5  6  7  8  9 11 12 14 15 16 17 18 19 20 21 22 23 25 27 29] \n",
      " [ 2 10 13 24 26 28]\n",
      "[ 0  1  2  3  4  6  7  8  9 10 12 13 14 15 18 19 20 21 23 24 25 26 28 29] \n",
      " [ 5 11 16 17 22 27]\n",
      "[ 0  2  3  4  5  6  7  9 10 11 12 13 15 16 17 18 19 21 22 24 25 26 27 28] \n",
      " [ 1  8 14 20 23 29]\n",
      "[ 0  1  2  3  5  8 10 11 12 13 14 15 16 17 20 21 22 23 24 25 26 27 28 29] \n",
      " [ 4  6  7  9 18 19]\n",
      "[ 1  2  4  5  6  7  8  9 10 11 13 14 16 17 18 19 20 22 23 24 26 27 28 29] \n",
      " [ 0  3 12 15 21 25]\n"
     ]
    }
   ],
   "source": [
    "for train, test in kf.split(x, y):\n",
    "    print(train, '\\n', test)"
   ]
  },
  {
   "cell_type": "code",
   "execution_count": 67,
   "id": "92f9f3be-cf2b-4664-b572-f607523aef7e",
   "metadata": {},
   "outputs": [
    {
     "data": {
      "text/plain": [
       "array([ 0,  1,  3,  4,  5,  6,  7,  8,  9, 11, 12, 14, 15, 16, 17, 18, 19,\n",
       "       20, 21, 22, 23, 25, 27, 29])"
      ]
     },
     "execution_count": 67,
     "metadata": {},
     "output_type": "execute_result"
    }
   ],
   "source": [
    "train"
   ]
  },
  {
   "cell_type": "code",
   "execution_count": 126,
   "id": "6c9e1cf7-67cb-41b7-bbad-e94796b09a7b",
   "metadata": {},
   "outputs": [],
   "source": [
    "'''for j in train:\n",
    "    print([[x.iloc[i,0]]])''';"
   ]
  },
  {
   "cell_type": "code",
   "execution_count": 132,
   "id": "34c2f53c-d69f-42ac-98cd-d332b7c55f55",
   "metadata": {},
   "outputs": [
    {
     "name": "stdout",
     "output_type": "stream",
     "text": [
      "training acc: 0.9411949620562126\n",
      "testing acc: 0.988169515729126\n",
      "\n",
      "training acc: 0.9612542631539638\n",
      "testing acc: 0.9257917429817739\n",
      "\n",
      "training acc: 0.9635908373578711\n",
      "testing acc: 0.9252385867407542\n",
      "\n",
      "training acc: 0.9625173469912476\n",
      "testing acc: 0.8785189123539608\n",
      "\n",
      "training acc: 0.9540189535215173\n",
      "testing acc: 0.9646120517676184\n",
      "\n"
     ]
    }
   ],
   "source": [
    "# Apply kfold\n",
    "for train, test in kf.split(x, y):\n",
    "    lr.fit(x[train], y[train])\n",
    "    print('training acc:', lr.score(x[train], y[train]))\n",
    "    print('testing acc:', lr.score(x[test], y[test]))\n",
    "    print()"
   ]
  },
  {
   "cell_type": "code",
   "execution_count": null,
   "id": "fe4da924-58a0-41b2-8aaa-8551de94f3bf",
   "metadata": {},
   "outputs": [],
   "source": []
  }
 ],
 "metadata": {
  "kernelspec": {
   "display_name": "Python 3 (ipykernel)",
   "language": "python",
   "name": "python3"
  },
  "language_info": {
   "codemirror_mode": {
    "name": "ipython",
    "version": 3
   },
   "file_extension": ".py",
   "mimetype": "text/x-python",
   "name": "python",
   "nbconvert_exporter": "python",
   "pygments_lexer": "ipython3",
   "version": "3.11.9"
  }
 },
 "nbformat": 4,
 "nbformat_minor": 5
}

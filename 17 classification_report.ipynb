{
 "cells": [
  {
   "cell_type": "code",
   "execution_count": 4,
   "id": "28dba722-1833-475d-8430-a8f26c1ef799",
   "metadata": {},
   "outputs": [],
   "source": [
    "import pandas as pd"
   ]
  },
  {
   "cell_type": "code",
   "execution_count": 14,
   "id": "6fc7d597-6c58-4747-ad59-01b5bf146a9a",
   "metadata": {},
   "outputs": [],
   "source": [
    "actual = ['p', 'p', 'p', 'np', 'np', 'np', 'np', 'np', 'p', 'p']\n",
    "predicted = ['p', 'np', 'p', 'np', 'p', 'p', 'np', 'p', 'np', 'p']"
   ]
  },
  {
   "cell_type": "code",
   "execution_count": 16,
   "id": "27e21170-20f4-426a-8605-c952146f7b30",
   "metadata": {},
   "outputs": [
    {
     "data": {
      "text/html": [
       "<div>\n",
       "<style scoped>\n",
       "    .dataframe tbody tr th:only-of-type {\n",
       "        vertical-align: middle;\n",
       "    }\n",
       "\n",
       "    .dataframe tbody tr th {\n",
       "        vertical-align: top;\n",
       "    }\n",
       "\n",
       "    .dataframe thead th {\n",
       "        text-align: right;\n",
       "    }\n",
       "</style>\n",
       "<table border=\"1\" class=\"dataframe\">\n",
       "  <thead>\n",
       "    <tr style=\"text-align: right;\">\n",
       "      <th></th>\n",
       "      <th>actual</th>\n",
       "      <th>predicted</th>\n",
       "    </tr>\n",
       "  </thead>\n",
       "  <tbody>\n",
       "    <tr>\n",
       "      <th>0</th>\n",
       "      <td>p</td>\n",
       "      <td>p</td>\n",
       "    </tr>\n",
       "    <tr>\n",
       "      <th>1</th>\n",
       "      <td>p</td>\n",
       "      <td>np</td>\n",
       "    </tr>\n",
       "    <tr>\n",
       "      <th>2</th>\n",
       "      <td>p</td>\n",
       "      <td>p</td>\n",
       "    </tr>\n",
       "    <tr>\n",
       "      <th>3</th>\n",
       "      <td>np</td>\n",
       "      <td>np</td>\n",
       "    </tr>\n",
       "    <tr>\n",
       "      <th>4</th>\n",
       "      <td>np</td>\n",
       "      <td>p</td>\n",
       "    </tr>\n",
       "    <tr>\n",
       "      <th>5</th>\n",
       "      <td>np</td>\n",
       "      <td>p</td>\n",
       "    </tr>\n",
       "    <tr>\n",
       "      <th>6</th>\n",
       "      <td>np</td>\n",
       "      <td>np</td>\n",
       "    </tr>\n",
       "    <tr>\n",
       "      <th>7</th>\n",
       "      <td>np</td>\n",
       "      <td>p</td>\n",
       "    </tr>\n",
       "    <tr>\n",
       "      <th>8</th>\n",
       "      <td>p</td>\n",
       "      <td>np</td>\n",
       "    </tr>\n",
       "    <tr>\n",
       "      <th>9</th>\n",
       "      <td>p</td>\n",
       "      <td>p</td>\n",
       "    </tr>\n",
       "  </tbody>\n",
       "</table>\n",
       "</div>"
      ],
      "text/plain": [
       "  actual predicted\n",
       "0      p         p\n",
       "1      p        np\n",
       "2      p         p\n",
       "3     np        np\n",
       "4     np         p\n",
       "5     np         p\n",
       "6     np        np\n",
       "7     np         p\n",
       "8      p        np\n",
       "9      p         p"
      ]
     },
     "execution_count": 16,
     "metadata": {},
     "output_type": "execute_result"
    }
   ],
   "source": [
    "data = pd.DataFrame({\n",
    "    'actual': actual,\n",
    "    'predicted': predicted\n",
    "})\n",
    "data"
   ]
  },
  {
   "cell_type": "code",
   "execution_count": 18,
   "id": "5efa08fd-817e-414f-bf71-c09913d365f4",
   "metadata": {},
   "outputs": [],
   "source": [
    "# for pandas"
   ]
  },
  {
   "cell_type": "code",
   "execution_count": 20,
   "id": "2f5af397-8e1a-43be-a092-6e96fcaac7bd",
   "metadata": {},
   "outputs": [
    {
     "data": {
      "text/plain": [
       "0.5"
      ]
     },
     "execution_count": 20,
     "metadata": {},
     "output_type": "execute_result"
    }
   ],
   "source": [
    "# precision\n",
    "precision = 3/6\n",
    "precision\n",
    "# out of predicted pandas how many correct"
   ]
  },
  {
   "cell_type": "code",
   "execution_count": 22,
   "id": "e18c30c9-fcf7-4ef5-9b13-2ef39e14273e",
   "metadata": {},
   "outputs": [
    {
     "data": {
      "text/plain": [
       "0.6"
      ]
     },
     "execution_count": 22,
     "metadata": {},
     "output_type": "execute_result"
    }
   ],
   "source": [
    "# recall\n",
    "recall = 3/5\n",
    "recall\n",
    "# out of actual pandas how many model was able to predict"
   ]
  },
  {
   "cell_type": "code",
   "execution_count": 26,
   "id": "b1c9f0f8-7e3a-4161-8ae9-7a9d6f0d342b",
   "metadata": {},
   "outputs": [
    {
     "data": {
      "text/plain": [
       "0.5454545454545454"
      ]
     },
     "execution_count": 26,
     "metadata": {},
     "output_type": "execute_result"
    }
   ],
   "source": [
    "# f1 score\n",
    "# harmonic mean between precision and recall\n",
    "# 2AB / A + B\n",
    "hm = 2 * precision * recall / (precision + recall)\n",
    "hm"
   ]
  },
  {
   "cell_type": "code",
   "execution_count": 28,
   "id": "41a31355-7876-450d-bdc9-4efb23c04db3",
   "metadata": {},
   "outputs": [],
   "source": [
    "support = 5\n",
    "# values of pandas in actual"
   ]
  },
  {
   "cell_type": "code",
   "execution_count": null,
   "id": "4089dd78-0eef-4059-9ec6-f62186b613d0",
   "metadata": {},
   "outputs": [],
   "source": []
  }
 ],
 "metadata": {
  "kernelspec": {
   "display_name": "Python 3 (ipykernel)",
   "language": "python",
   "name": "python3"
  },
  "language_info": {
   "codemirror_mode": {
    "name": "ipython",
    "version": 3
   },
   "file_extension": ".py",
   "mimetype": "text/x-python",
   "name": "python",
   "nbconvert_exporter": "python",
   "pygments_lexer": "ipython3",
   "version": "3.11.9"
  }
 },
 "nbformat": 4,
 "nbformat_minor": 5
}

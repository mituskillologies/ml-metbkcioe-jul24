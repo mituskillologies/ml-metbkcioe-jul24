{
 "cells": [
  {
   "cell_type": "code",
   "execution_count": 1,
   "id": "abcbfef7-ab8d-4c62-a8ab-ace4ad7d83bb",
   "metadata": {},
   "outputs": [
    {
     "name": "stdout",
     "output_type": "stream",
     "text": [
      "Hello World\n"
     ]
    }
   ],
   "source": [
    "print('Hello World')"
   ]
  },
  {
   "cell_type": "code",
   "execution_count": 3,
   "id": "6ab3b977-0077-4204-9625-bbbfe591b8eb",
   "metadata": {},
   "outputs": [
    {
     "data": {
      "text/plain": [
       "list"
      ]
     },
     "execution_count": 3,
     "metadata": {},
     "output_type": "execute_result"
    }
   ],
   "source": [
    "x = [45,77,63,12,45,'Pune',78.44]\n",
    "type(x)"
   ]
  },
  {
   "cell_type": "code",
   "execution_count": 4,
   "id": "4c4a8655-97c2-473a-b62c-32b2197a6f0c",
   "metadata": {},
   "outputs": [
    {
     "data": {
      "text/plain": [
       "tuple"
      ]
     },
     "execution_count": 4,
     "metadata": {},
     "output_type": "execute_result"
    }
   ],
   "source": [
    "x = (45,77,63,12,45,'Pune',78.44)\n",
    "type(x)"
   ]
  },
  {
   "cell_type": "code",
   "execution_count": 6,
   "id": "f65509fc-6470-4c9e-9f40-224cdba41402",
   "metadata": {},
   "outputs": [
    {
     "data": {
      "text/plain": [
       "set"
      ]
     },
     "execution_count": 6,
     "metadata": {},
     "output_type": "execute_result"
    }
   ],
   "source": [
    "x = {45,77,63,12,45,'Pune',78.44, 77, 12, 12}\n",
    "type(x)"
   ]
  },
  {
   "cell_type": "code",
   "execution_count": 7,
   "id": "99ff67f4-8954-4625-976e-0120fa5b4ae4",
   "metadata": {},
   "outputs": [
    {
     "data": {
      "text/plain": [
       "{12, 45, 63, 77, 78.44, 'Pune'}"
      ]
     },
     "execution_count": 7,
     "metadata": {},
     "output_type": "execute_result"
    }
   ],
   "source": [
    "x"
   ]
  },
  {
   "cell_type": "code",
   "execution_count": 8,
   "id": "966709c8-8713-4401-9196-636f240b0d9d",
   "metadata": {},
   "outputs": [
    {
     "data": {
      "text/plain": [
       "dict"
      ]
     },
     "execution_count": 8,
     "metadata": {},
     "output_type": "execute_result"
    }
   ],
   "source": [
    "x = {4:77,6:12,5:'Pune',11:78.44}\n",
    "type(x)"
   ]
  },
  {
   "cell_type": "code",
   "execution_count": 9,
   "id": "3940df2e-52fd-48b4-ab85-e6c5e51a4e37",
   "metadata": {},
   "outputs": [
    {
     "data": {
      "text/plain": [
       "'Pune'"
      ]
     },
     "execution_count": 9,
     "metadata": {},
     "output_type": "execute_result"
    }
   ],
   "source": [
    "x[5]"
   ]
  },
  {
   "cell_type": "code",
   "execution_count": 15,
   "id": "52667d15-e0a6-455c-aa57-9e41782ce4ea",
   "metadata": {},
   "outputs": [],
   "source": [
    "num = 562359865891276517858612851726418375646756758745786"
   ]
  },
  {
   "cell_type": "code",
   "execution_count": 16,
   "id": "419281c6-ecf2-479d-9809-bd1f2dd28e0a",
   "metadata": {},
   "outputs": [
    {
     "data": {
      "text/plain": [
       "562359865891276517858612851726418375646756758745786"
      ]
     },
     "execution_count": 16,
     "metadata": {},
     "output_type": "execute_result"
    }
   ],
   "source": [
    "num"
   ]
  },
  {
   "cell_type": "code",
   "execution_count": 17,
   "id": "796ab12f-7265-4f4c-93ab-506bf3f50171",
   "metadata": {},
   "outputs": [
    {
     "data": {
      "text/plain": [
       "340282366920938463463374607431768211456"
      ]
     },
     "execution_count": 17,
     "metadata": {},
     "output_type": "execute_result"
    }
   ],
   "source": [
    "2**128"
   ]
  },
  {
   "cell_type": "code",
   "execution_count": 19,
   "id": "4f6d53dd-0cc2-43ca-81de-6d7197e83828",
   "metadata": {},
   "outputs": [],
   "source": [
    "import numpy as np"
   ]
  },
  {
   "cell_type": "code",
   "execution_count": 20,
   "id": "4d77868e-c3b5-440d-82a0-c85bf69b908c",
   "metadata": {},
   "outputs": [],
   "source": [
    "num = np.array([23,11,45,78,95,27,52])"
   ]
  },
  {
   "cell_type": "code",
   "execution_count": 21,
   "id": "8b4be782-53ef-49e1-962a-855236fea55c",
   "metadata": {},
   "outputs": [
    {
     "data": {
      "text/plain": [
       "array([23, 11, 45, 78, 95, 27, 52])"
      ]
     },
     "execution_count": 21,
     "metadata": {},
     "output_type": "execute_result"
    }
   ],
   "source": [
    "num"
   ]
  },
  {
   "cell_type": "code",
   "execution_count": 22,
   "id": "5710d95f-66bb-40ca-a4a7-8182a9091709",
   "metadata": {},
   "outputs": [
    {
     "data": {
      "text/plain": [
       "7"
      ]
     },
     "execution_count": 22,
     "metadata": {},
     "output_type": "execute_result"
    }
   ],
   "source": [
    "num.size"
   ]
  },
  {
   "cell_type": "code",
   "execution_count": 23,
   "id": "b030264b-bff1-4698-ac74-98f7a5105cb4",
   "metadata": {},
   "outputs": [
    {
     "data": {
      "text/plain": [
       "dtype('int64')"
      ]
     },
     "execution_count": 23,
     "metadata": {},
     "output_type": "execute_result"
    }
   ],
   "source": [
    "num.dtype"
   ]
  },
  {
   "cell_type": "code",
   "execution_count": 24,
   "id": "5b805075-6b03-4d29-9bd2-3df57bb069bd",
   "metadata": {},
   "outputs": [
    {
     "data": {
      "text/plain": [
       "1"
      ]
     },
     "execution_count": 24,
     "metadata": {},
     "output_type": "execute_result"
    }
   ],
   "source": [
    "num.ndim"
   ]
  },
  {
   "cell_type": "code",
   "execution_count": 25,
   "id": "a27868f7-1b31-4dd0-997b-4a64f783e258",
   "metadata": {},
   "outputs": [
    {
     "data": {
      "text/plain": [
       "95"
      ]
     },
     "execution_count": 25,
     "metadata": {},
     "output_type": "execute_result"
    }
   ],
   "source": [
    "num.max()"
   ]
  },
  {
   "cell_type": "code",
   "execution_count": 26,
   "id": "cbfe0def-f52b-4982-9365-e711baa0ed49",
   "metadata": {},
   "outputs": [
    {
     "data": {
      "text/plain": [
       "11"
      ]
     },
     "execution_count": 26,
     "metadata": {},
     "output_type": "execute_result"
    }
   ],
   "source": [
    "num.min()"
   ]
  },
  {
   "cell_type": "code",
   "execution_count": 27,
   "id": "44ca5731-ce04-4e23-bfea-c958c732b7fd",
   "metadata": {},
   "outputs": [],
   "source": [
    "num = np.array([23,11,45,78,95,27,52], dtype=np.int8)"
   ]
  },
  {
   "cell_type": "code",
   "execution_count": 28,
   "id": "c34a66c9-ca44-48a1-9017-614b37e650da",
   "metadata": {},
   "outputs": [
    {
     "data": {
      "text/plain": [
       "array([23, 11, 45, 78, 95, 27, 52], dtype=int8)"
      ]
     },
     "execution_count": 28,
     "metadata": {},
     "output_type": "execute_result"
    }
   ],
   "source": [
    "num"
   ]
  },
  {
   "cell_type": "code",
   "execution_count": 29,
   "id": "4252cdbd-e8b2-494c-a0f3-e805141464db",
   "metadata": {},
   "outputs": [
    {
     "data": {
      "text/plain": [
       "array([23, 11, 45, 78, 95, 27, 52], dtype=uint8)"
      ]
     },
     "execution_count": 29,
     "metadata": {},
     "output_type": "execute_result"
    }
   ],
   "source": [
    "num = np.array([23,11,45,78,95,27,52], dtype=np.uint8)\n",
    "num"
   ]
  },
  {
   "cell_type": "code",
   "execution_count": 30,
   "id": "165e4e96-b2be-4a66-8de9-c3eaaa8f4f40",
   "metadata": {},
   "outputs": [],
   "source": [
    "num = np.array([23,11,45,78,95,27,52, 67.23, 11.22])"
   ]
  },
  {
   "cell_type": "code",
   "execution_count": 31,
   "id": "10906e3d-425f-4bf7-b7e1-d6246ae205fb",
   "metadata": {},
   "outputs": [
    {
     "data": {
      "text/plain": [
       "array([23.  , 11.  , 45.  , 78.  , 95.  , 27.  , 52.  , 67.23, 11.22])"
      ]
     },
     "execution_count": 31,
     "metadata": {},
     "output_type": "execute_result"
    }
   ],
   "source": [
    "num"
   ]
  },
  {
   "cell_type": "code",
   "execution_count": 32,
   "id": "83df64bd-b4ab-4eb1-ae24-1bcae0960e55",
   "metadata": {},
   "outputs": [
    {
     "data": {
      "text/plain": [
       "dtype('float64')"
      ]
     },
     "execution_count": 32,
     "metadata": {},
     "output_type": "execute_result"
    }
   ],
   "source": [
    "num.dtype"
   ]
  },
  {
   "cell_type": "code",
   "execution_count": 33,
   "id": "2815174f-7e84-40de-b218-4d9f43510b3f",
   "metadata": {},
   "outputs": [
    {
     "data": {
      "text/plain": [
       "23.0"
      ]
     },
     "execution_count": 33,
     "metadata": {},
     "output_type": "execute_result"
    }
   ],
   "source": [
    "num[0]"
   ]
  },
  {
   "cell_type": "code",
   "execution_count": 34,
   "id": "68e79cbf-36fe-45ff-834b-328daa27cfd9",
   "metadata": {},
   "outputs": [],
   "source": [
    "num = np.array([23,11,45,78,95,27,52, True])"
   ]
  },
  {
   "cell_type": "code",
   "execution_count": 35,
   "id": "c1fdc0c8-b0e0-4936-b6c6-6807b4d2951e",
   "metadata": {},
   "outputs": [
    {
     "data": {
      "text/plain": [
       "array([23, 11, 45, 78, 95, 27, 52,  1])"
      ]
     },
     "execution_count": 35,
     "metadata": {},
     "output_type": "execute_result"
    }
   ],
   "source": [
    "num"
   ]
  },
  {
   "cell_type": "code",
   "execution_count": 36,
   "id": "eea817bc-39b6-41f1-b3fb-1e599d315854",
   "metadata": {},
   "outputs": [
    {
     "data": {
      "text/plain": [
       "30.495901363953813"
      ]
     },
     "execution_count": 36,
     "metadata": {},
     "output_type": "execute_result"
    }
   ],
   "source": [
    "num.std()"
   ]
  },
  {
   "cell_type": "code",
   "execution_count": 37,
   "id": "cfdc8326-c0bb-4674-a011-27ddf2712ff1",
   "metadata": {},
   "outputs": [
    {
     "data": {
      "text/plain": [
       "41.5"
      ]
     },
     "execution_count": 37,
     "metadata": {},
     "output_type": "execute_result"
    }
   ],
   "source": [
    "num.mean()"
   ]
  },
  {
   "cell_type": "code",
   "execution_count": 38,
   "id": "1e7e6cd1-4ed0-4f1f-b8b1-30f442cc6623",
   "metadata": {},
   "outputs": [
    {
     "data": {
      "text/plain": [
       "332"
      ]
     },
     "execution_count": 38,
     "metadata": {},
     "output_type": "execute_result"
    }
   ],
   "source": [
    "num.sum()"
   ]
  },
  {
   "cell_type": "code",
   "execution_count": 39,
   "id": "81331d41-de01-45f5-ae82-2bb20206d758",
   "metadata": {},
   "outputs": [
    {
     "data": {
      "text/plain": [
       "array([23, 11, 45, 78, 95, 27, 52,  1])"
      ]
     },
     "execution_count": 39,
     "metadata": {},
     "output_type": "execute_result"
    }
   ],
   "source": [
    "num "
   ]
  },
  {
   "cell_type": "code",
   "execution_count": 40,
   "id": "d84534df-10be-4ef8-bda7-c3c053a48c1c",
   "metadata": {},
   "outputs": [
    {
     "data": {
      "text/plain": [
       "array([ 35,  23,  57,  90, 107,  39,  64,  13])"
      ]
     },
     "execution_count": 40,
     "metadata": {},
     "output_type": "execute_result"
    }
   ],
   "source": [
    "num + 12"
   ]
  },
  {
   "cell_type": "code",
   "execution_count": 41,
   "id": "f85f6906-7860-402d-8505-35119dcce4eb",
   "metadata": {},
   "outputs": [
    {
     "data": {
      "text/plain": [
       "array([ 46.,  22.,  90., 156., 190.,  54., 104.,   2.])"
      ]
     },
     "execution_count": 41,
     "metadata": {},
     "output_type": "execute_result"
    }
   ],
   "source": [
    "num / 0.5"
   ]
  },
  {
   "cell_type": "code",
   "execution_count": 42,
   "id": "48cbf9a7-245a-4d96-a40b-902118bd2171",
   "metadata": {},
   "outputs": [
    {
     "data": {
      "text/plain": [
       "array([230, 110, 450, 780, 950, 270, 520,  10])"
      ]
     },
     "execution_count": 42,
     "metadata": {},
     "output_type": "execute_result"
    }
   ],
   "source": [
    "num * 10"
   ]
  },
  {
   "cell_type": "code",
   "execution_count": 43,
   "id": "b596fcb0-3d7d-489f-a7a1-13ae4026c129",
   "metadata": {},
   "outputs": [],
   "source": [
    "num1 = np.array([24,61,25,58,85,17,82,11])"
   ]
  },
  {
   "cell_type": "code",
   "execution_count": 44,
   "id": "b133c13d-629d-4fe6-9b46-f69aab3e3dbe",
   "metadata": {},
   "outputs": [
    {
     "data": {
      "text/plain": [
       "array([ 47,  72,  70, 136, 180,  44, 134,  12])"
      ]
     },
     "execution_count": 44,
     "metadata": {},
     "output_type": "execute_result"
    }
   ],
   "source": [
    "num + num1"
   ]
  },
  {
   "cell_type": "code",
   "execution_count": 45,
   "id": "2e404627-3e11-4e1c-b840-ed5e7b05b051",
   "metadata": {},
   "outputs": [
    {
     "data": {
      "text/plain": [
       "array([0.95833333, 0.18032787, 1.8       , 1.34482759, 1.11764706,\n",
       "       1.58823529, 0.63414634, 0.09090909])"
      ]
     },
     "execution_count": 45,
     "metadata": {},
     "output_type": "execute_result"
    }
   ],
   "source": [
    "num / num1"
   ]
  },
  {
   "cell_type": "code",
   "execution_count": 46,
   "id": "f490e175-f274-4dd8-acec-2dbd8e0783da",
   "metadata": {},
   "outputs": [
    {
     "data": {
      "text/plain": [
       "array([False, False,  True,  True,  True,  True, False, False])"
      ]
     },
     "execution_count": 46,
     "metadata": {},
     "output_type": "execute_result"
    }
   ],
   "source": [
    "num > num1"
   ]
  },
  {
   "cell_type": "code",
   "execution_count": 47,
   "id": "bd0d9f12-518c-4d37-8d39-ee9bf1e34256",
   "metadata": {},
   "outputs": [
    {
     "data": {
      "text/plain": [
       "array([23, 11, 45, 78, 95, 27, 52,  1])"
      ]
     },
     "execution_count": 47,
     "metadata": {},
     "output_type": "execute_result"
    }
   ],
   "source": [
    "num"
   ]
  },
  {
   "cell_type": "code",
   "execution_count": 48,
   "id": "77912d73-4225-44bb-9360-3c9c4fd053f4",
   "metadata": {},
   "outputs": [
    {
     "data": {
      "text/plain": [
       "array([False, False, False,  True,  True, False,  True, False])"
      ]
     },
     "execution_count": 48,
     "metadata": {},
     "output_type": "execute_result"
    }
   ],
   "source": [
    "num > 50"
   ]
  },
  {
   "cell_type": "code",
   "execution_count": 49,
   "id": "d9d24892-2f5b-4389-b971-6013ac9777e4",
   "metadata": {},
   "outputs": [
    {
     "data": {
      "text/plain": [
       "array([78, 95, 52])"
      ]
     },
     "execution_count": 49,
     "metadata": {},
     "output_type": "execute_result"
    }
   ],
   "source": [
    "num[num > 50]"
   ]
  },
  {
   "cell_type": "code",
   "execution_count": 50,
   "id": "3c3b478d-d425-4cca-9830-a6f450aae74e",
   "metadata": {},
   "outputs": [
    {
     "data": {
      "text/plain": [
       "array([45, 78, 95, 27])"
      ]
     },
     "execution_count": 50,
     "metadata": {},
     "output_type": "execute_result"
    }
   ],
   "source": [
    "num[2:6]"
   ]
  },
  {
   "cell_type": "code",
   "execution_count": 51,
   "id": "2a4c7935-8731-4175-9fd4-72a6802cc8c2",
   "metadata": {},
   "outputs": [
    {
     "data": {
      "text/plain": [
       "array([45, 78, 95, 27, 52,  1])"
      ]
     },
     "execution_count": 51,
     "metadata": {},
     "output_type": "execute_result"
    }
   ],
   "source": [
    "num[2:]"
   ]
  },
  {
   "cell_type": "code",
   "execution_count": 52,
   "id": "c06d841e-fdc4-4579-bcf0-30dd760501b4",
   "metadata": {},
   "outputs": [
    {
     "data": {
      "text/plain": [
       "array([23, 11, 45, 78])"
      ]
     },
     "execution_count": 52,
     "metadata": {},
     "output_type": "execute_result"
    }
   ],
   "source": [
    "num[:4]"
   ]
  },
  {
   "cell_type": "code",
   "execution_count": 53,
   "id": "66271359-85f5-4015-a1ec-acc7f9fe9c28",
   "metadata": {},
   "outputs": [],
   "source": [
    "M = np.array([[4,5,6],[2,1,9],[7,6,2],[0,1,5]])"
   ]
  },
  {
   "cell_type": "code",
   "execution_count": 54,
   "id": "77d2a142-848a-4cc3-b93c-36979fc9bbe4",
   "metadata": {},
   "outputs": [
    {
     "data": {
      "text/plain": [
       "array([[4, 5, 6],\n",
       "       [2, 1, 9],\n",
       "       [7, 6, 2],\n",
       "       [0, 1, 5]])"
      ]
     },
     "execution_count": 54,
     "metadata": {},
     "output_type": "execute_result"
    }
   ],
   "source": [
    "M"
   ]
  },
  {
   "cell_type": "code",
   "execution_count": 55,
   "id": "bf0f322f-3bb0-4283-af86-07aad994909c",
   "metadata": {},
   "outputs": [
    {
     "data": {
      "text/plain": [
       "dtype('int64')"
      ]
     },
     "execution_count": 55,
     "metadata": {},
     "output_type": "execute_result"
    }
   ],
   "source": [
    "M.dtype"
   ]
  },
  {
   "cell_type": "code",
   "execution_count": 56,
   "id": "54d2a842-0085-47f5-a524-3afd934f2fd6",
   "metadata": {},
   "outputs": [
    {
     "data": {
      "text/plain": [
       "(4, 3)"
      ]
     },
     "execution_count": 56,
     "metadata": {},
     "output_type": "execute_result"
    }
   ],
   "source": [
    "M.shape"
   ]
  },
  {
   "cell_type": "code",
   "execution_count": 57,
   "id": "c9247042-8d80-4963-bdf8-9bcb4149307b",
   "metadata": {},
   "outputs": [
    {
     "data": {
      "text/plain": [
       "12"
      ]
     },
     "execution_count": 57,
     "metadata": {},
     "output_type": "execute_result"
    }
   ],
   "source": [
    "M.size"
   ]
  },
  {
   "cell_type": "code",
   "execution_count": 58,
   "id": "ef17dc7b-fb57-4c93-ae4b-7d39a36067c5",
   "metadata": {},
   "outputs": [
    {
     "data": {
      "text/plain": [
       "0"
      ]
     },
     "execution_count": 58,
     "metadata": {},
     "output_type": "execute_result"
    }
   ],
   "source": [
    "M.min()"
   ]
  },
  {
   "cell_type": "code",
   "execution_count": 59,
   "id": "9c3242c1-6b49-4173-b5ae-4ff9963db389",
   "metadata": {},
   "outputs": [
    {
     "data": {
      "text/plain": [
       "9"
      ]
     },
     "execution_count": 59,
     "metadata": {},
     "output_type": "execute_result"
    }
   ],
   "source": [
    "M.max()"
   ]
  },
  {
   "cell_type": "code",
   "execution_count": 60,
   "id": "7a346d3b-8aa0-4739-8778-7d8616682313",
   "metadata": {},
   "outputs": [
    {
     "data": {
      "text/plain": [
       "array([[4, 5, 6],\n",
       "       [2, 1, 9],\n",
       "       [7, 6, 2],\n",
       "       [0, 1, 5]])"
      ]
     },
     "execution_count": 60,
     "metadata": {},
     "output_type": "execute_result"
    }
   ],
   "source": [
    "M"
   ]
  },
  {
   "cell_type": "code",
   "execution_count": 61,
   "id": "acd4b103-f1ba-4344-8df8-8b699e1b7a51",
   "metadata": {},
   "outputs": [
    {
     "data": {
      "text/plain": [
       "array([4, 1, 2, 0])"
      ]
     },
     "execution_count": 61,
     "metadata": {},
     "output_type": "execute_result"
    }
   ],
   "source": [
    "M.min(axis=1)"
   ]
  },
  {
   "cell_type": "code",
   "execution_count": 62,
   "id": "a6805fa5-375a-415d-8647-b006149d9a57",
   "metadata": {},
   "outputs": [
    {
     "data": {
      "text/plain": [
       "array([0, 1, 2])"
      ]
     },
     "execution_count": 62,
     "metadata": {},
     "output_type": "execute_result"
    }
   ],
   "source": [
    "M.min(axis=0)"
   ]
  },
  {
   "cell_type": "code",
   "execution_count": 63,
   "id": "10dbb744-413e-4cdd-b222-541d99801dcb",
   "metadata": {},
   "outputs": [
    {
     "data": {
      "text/plain": [
       "4.0"
      ]
     },
     "execution_count": 63,
     "metadata": {},
     "output_type": "execute_result"
    }
   ],
   "source": [
    "M.mean()"
   ]
  },
  {
   "cell_type": "code",
   "execution_count": 64,
   "id": "6e9e11d2-0068-462a-805b-1b98c4a28f78",
   "metadata": {},
   "outputs": [
    {
     "data": {
      "text/plain": [
       "array([5., 4., 5., 2.])"
      ]
     },
     "execution_count": 64,
     "metadata": {},
     "output_type": "execute_result"
    }
   ],
   "source": [
    "M.mean(axis=1)"
   ]
  },
  {
   "cell_type": "code",
   "execution_count": 65,
   "id": "6cd8f27e-3e48-4c54-88be-978d3800637a",
   "metadata": {},
   "outputs": [
    {
     "data": {
      "text/plain": [
       "array([[4, 2, 7, 0],\n",
       "       [5, 1, 6, 1],\n",
       "       [6, 9, 2, 5]])"
      ]
     },
     "execution_count": 65,
     "metadata": {},
     "output_type": "execute_result"
    }
   ],
   "source": [
    "M.T"
   ]
  },
  {
   "cell_type": "code",
   "execution_count": 66,
   "id": "2741790f-8090-448f-87ac-c523ff885e59",
   "metadata": {},
   "outputs": [
    {
     "data": {
      "text/plain": [
       "array([[4, 5],\n",
       "       [6, 2],\n",
       "       [1, 9],\n",
       "       [7, 6],\n",
       "       [2, 0],\n",
       "       [1, 5]])"
      ]
     },
     "execution_count": 66,
     "metadata": {},
     "output_type": "execute_result"
    }
   ],
   "source": [
    "M.reshape(6,2)"
   ]
  },
  {
   "cell_type": "code",
   "execution_count": 67,
   "id": "d27a9980-3570-4b8a-8190-c4337d7137d4",
   "metadata": {},
   "outputs": [
    {
     "data": {
      "text/plain": [
       "array([[4, 5, 6, 2],\n",
       "       [1, 9, 7, 6],\n",
       "       [2, 0, 1, 5]])"
      ]
     },
     "execution_count": 67,
     "metadata": {},
     "output_type": "execute_result"
    }
   ],
   "source": [
    "M.reshape(3,4)"
   ]
  },
  {
   "cell_type": "code",
   "execution_count": 68,
   "id": "2017cffb-7519-44d7-a1a5-e093b1f8ab89",
   "metadata": {},
   "outputs": [
    {
     "data": {
      "text/plain": [
       "array([[4, 5, 6, 2, 1, 9],\n",
       "       [7, 6, 2, 0, 1, 5]])"
      ]
     },
     "execution_count": 68,
     "metadata": {},
     "output_type": "execute_result"
    }
   ],
   "source": [
    "M.reshape(-1,6)"
   ]
  },
  {
   "cell_type": "code",
   "execution_count": 69,
   "id": "5f77cafa-90d2-4f77-ab56-adc14ebe863a",
   "metadata": {},
   "outputs": [
    {
     "data": {
      "text/plain": [
       "array([4, 5, 6, 2, 1, 9, 7, 6, 2, 0, 1, 5])"
      ]
     },
     "execution_count": 69,
     "metadata": {},
     "output_type": "execute_result"
    }
   ],
   "source": [
    "M.flatten()"
   ]
  },
  {
   "cell_type": "code",
   "execution_count": 70,
   "id": "63223a03-4715-4106-8c30-68c0fffe809c",
   "metadata": {},
   "outputs": [
    {
     "data": {
      "text/plain": [
       "array([[4, 5, 6],\n",
       "       [2, 1, 9],\n",
       "       [7, 6, 2],\n",
       "       [0, 1, 5]])"
      ]
     },
     "execution_count": 70,
     "metadata": {},
     "output_type": "execute_result"
    }
   ],
   "source": [
    "M"
   ]
  },
  {
   "cell_type": "code",
   "execution_count": 71,
   "id": "e74cd9a6-eea8-45fe-ae1d-750ebaf6743b",
   "metadata": {},
   "outputs": [
    {
     "data": {
      "text/plain": [
       "array([[40, 50, 60],\n",
       "       [20, 10, 90],\n",
       "       [70, 60, 20],\n",
       "       [ 0, 10, 50]])"
      ]
     },
     "execution_count": 71,
     "metadata": {},
     "output_type": "execute_result"
    }
   ],
   "source": [
    "M * 10"
   ]
  },
  {
   "cell_type": "code",
   "execution_count": 72,
   "id": "6ba062bd-c644-410d-bad9-df6695b39c55",
   "metadata": {},
   "outputs": [
    {
     "data": {
      "text/plain": [
       "array([[2, 1],\n",
       "       [7, 6]])"
      ]
     },
     "execution_count": 72,
     "metadata": {},
     "output_type": "execute_result"
    }
   ],
   "source": [
    "M[1:3, 0:2]"
   ]
  },
  {
   "cell_type": "code",
   "execution_count": 73,
   "id": "3d0d0724-34d7-41b1-8f04-d6e3a5595824",
   "metadata": {},
   "outputs": [
    {
     "data": {
      "text/plain": [
       "array([0, 1, 2, 3, 4, 5, 6, 7, 8, 9])"
      ]
     },
     "execution_count": 73,
     "metadata": {},
     "output_type": "execute_result"
    }
   ],
   "source": [
    "np.arange(10)"
   ]
  },
  {
   "cell_type": "code",
   "execution_count": 74,
   "id": "3d07361b-0408-43ed-b246-002b2be363fe",
   "metadata": {},
   "outputs": [
    {
     "data": {
      "text/plain": [
       "array([4, 5, 6, 7, 8, 9])"
      ]
     },
     "execution_count": 74,
     "metadata": {},
     "output_type": "execute_result"
    }
   ],
   "source": [
    "np.arange(4,10)"
   ]
  },
  {
   "cell_type": "code",
   "execution_count": 76,
   "id": "b93202fd-ebf0-4353-981d-d47691e48e5b",
   "metadata": {},
   "outputs": [
    {
     "data": {
      "text/plain": [
       "array([ 1,  3,  5,  7,  9, 11, 13])"
      ]
     },
     "execution_count": 76,
     "metadata": {},
     "output_type": "execute_result"
    }
   ],
   "source": [
    "np.arange(1,15,2)"
   ]
  },
  {
   "cell_type": "code",
   "execution_count": 77,
   "id": "1bfa6dbf-42d9-4207-87e8-d4a413a891f2",
   "metadata": {},
   "outputs": [
    {
     "data": {
      "text/plain": [
       "array([20, 17, 14, 11,  8,  5,  2])"
      ]
     },
     "execution_count": 77,
     "metadata": {},
     "output_type": "execute_result"
    }
   ],
   "source": [
    "np.arange(20,1,-3)"
   ]
  },
  {
   "cell_type": "code",
   "execution_count": 78,
   "id": "d3ec54fc-3249-4c0e-8c9d-270b8b78c9ef",
   "metadata": {},
   "outputs": [
    {
     "data": {
      "text/plain": [
       "array([[0, 1, 2],\n",
       "       [3, 4, 5],\n",
       "       [6, 7, 8]])"
      ]
     },
     "execution_count": 78,
     "metadata": {},
     "output_type": "execute_result"
    }
   ],
   "source": [
    "np.arange(9).reshape(3,3)"
   ]
  },
  {
   "cell_type": "code",
   "execution_count": 81,
   "id": "496bf423-9899-4c16-a6f2-fd489c1a7bbb",
   "metadata": {},
   "outputs": [
    {
     "data": {
      "text/plain": [
       "array([0., 0., 0., 0., 0., 0., 0., 0., 0., 0.])"
      ]
     },
     "execution_count": 81,
     "metadata": {},
     "output_type": "execute_result"
    }
   ],
   "source": [
    "x = np.zeros(10)\n",
    "x"
   ]
  },
  {
   "cell_type": "code",
   "execution_count": 82,
   "id": "a2ae0641-c936-4475-8dd9-1d73359e1182",
   "metadata": {},
   "outputs": [
    {
     "data": {
      "text/plain": [
       "array([0, 0, 0, 0, 0, 0, 0, 0, 0, 0], dtype=int8)"
      ]
     },
     "execution_count": 82,
     "metadata": {},
     "output_type": "execute_result"
    }
   ],
   "source": [
    "x = np.zeros(10, dtype=np.int8)\n",
    "x"
   ]
  },
  {
   "cell_type": "code",
   "execution_count": 83,
   "id": "75a0339f-477a-4ed3-b472-2058a6d32d9b",
   "metadata": {},
   "outputs": [
    {
     "data": {
      "text/plain": [
       "array([[0, 0, 0],\n",
       "       [0, 0, 0],\n",
       "       [0, 0, 0]], dtype=int8)"
      ]
     },
     "execution_count": 83,
     "metadata": {},
     "output_type": "execute_result"
    }
   ],
   "source": [
    "x = np.zeros([3,3], dtype=np.int8)\n",
    "x"
   ]
  },
  {
   "cell_type": "code",
   "execution_count": 84,
   "id": "ef018f35-6cb3-48d4-8eda-ccab2c13f2c1",
   "metadata": {},
   "outputs": [
    {
     "data": {
      "text/plain": [
       "array([[1, 1, 1],\n",
       "       [1, 1, 1],\n",
       "       [1, 1, 1]], dtype=int8)"
      ]
     },
     "execution_count": 84,
     "metadata": {},
     "output_type": "execute_result"
    }
   ],
   "source": [
    "x = np.ones([3,3], dtype=np.int8)\n",
    "x"
   ]
  },
  {
   "cell_type": "code",
   "execution_count": 85,
   "id": "ca6de404-a0eb-4cd4-81db-7c53506ad185",
   "metadata": {},
   "outputs": [
    {
     "data": {
      "text/plain": [
       "array([[8, 8, 8],\n",
       "       [8, 8, 8],\n",
       "       [8, 8, 8]], dtype=int8)"
      ]
     },
     "execution_count": 85,
     "metadata": {},
     "output_type": "execute_result"
    }
   ],
   "source": [
    "x = np.zeros([3,3], dtype=np.int8) + 8\n",
    "x"
   ]
  },
  {
   "cell_type": "code",
   "execution_count": 88,
   "id": "6dcb812b-ef2b-4e54-ada9-0bc06ab6d1a7",
   "metadata": {},
   "outputs": [],
   "source": [
    "num = np.array([5, 6, 2, 8, 9, 1, 3, 7, 4, 0])\n",
    "num[5:].sort()"
   ]
  },
  {
   "cell_type": "code",
   "execution_count": 89,
   "id": "7cdd6bde-f4c5-411b-8a1c-7e8e589f065b",
   "metadata": {},
   "outputs": [
    {
     "data": {
      "text/plain": [
       "array([5, 6, 2, 8, 9, 0, 1, 3, 4, 7])"
      ]
     },
     "execution_count": 89,
     "metadata": {},
     "output_type": "execute_result"
    }
   ],
   "source": [
    "num"
   ]
  },
  {
   "cell_type": "code",
   "execution_count": 90,
   "id": "c24fbed0-21c0-4b24-8286-07bc1e9cade8",
   "metadata": {},
   "outputs": [
    {
     "data": {
      "text/plain": [
       "array([1. , 2.4, 3.8, 5.2, 6.6, 8. ])"
      ]
     },
     "execution_count": 90,
     "metadata": {},
     "output_type": "execute_result"
    }
   ],
   "source": [
    "np.linspace(1,8,6)"
   ]
  },
  {
   "cell_type": "code",
   "execution_count": null,
   "id": "d865628d-b5b8-4edc-813d-8489f7d1539b",
   "metadata": {},
   "outputs": [],
   "source": []
  }
 ],
 "metadata": {
  "kernelspec": {
   "display_name": "Python 3 (ipykernel)",
   "language": "python",
   "name": "python3"
  },
  "language_info": {
   "codemirror_mode": {
    "name": "ipython",
    "version": 3
   },
   "file_extension": ".py",
   "mimetype": "text/x-python",
   "name": "python",
   "nbconvert_exporter": "python",
   "pygments_lexer": "ipython3",
   "version": "3.10.12"
  }
 },
 "nbformat": 4,
 "nbformat_minor": 5
}
